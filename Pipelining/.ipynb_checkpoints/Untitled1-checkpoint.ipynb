{
 "cells": [
  {
   "cell_type": "code",
   "execution_count": null,
   "id": "f13f6433-c500-4f73-9896-865137437bad",
   "metadata": {},
   "outputs": [],
   "source": [
    "try:\n",
    "    import pandas as pd\n",
    "    print('imported pandas')\n",
    "except:\n",
    "    print('pandas has to be installed')"
   ]
  },
  {
   "cell_type": "code",
   "execution_count": null,
   "id": "f4bada88-cef6-4180-9239-6a3e3705f415",
   "metadata": {},
   "outputs": [],
   "source": [
    "df = pd.read_csv('games.csv')\n",
    "df.head()"
   ]
  }
 ],
 "metadata": {
  "kernelspec": {
   "display_name": "Python 3 (ipykernel)",
   "language": "python",
   "name": "python3"
  },
  "language_info": {
   "codemirror_mode": {
    "name": "ipython",
    "version": 3
   },
   "file_extension": ".py",
   "mimetype": "text/x-python",
   "name": "python",
   "nbconvert_exporter": "python",
   "pygments_lexer": "ipython3",
   "version": "3.9.13"
  }
 },
 "nbformat": 4,
 "nbformat_minor": 5
}
